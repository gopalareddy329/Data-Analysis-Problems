{
 "cells": [
  {
   "cell_type": "code",
   "execution_count": null,
   "id": "cc60e10a",
   "metadata": {},
   "outputs": [],
   "source": [
    "\n",
    "1.Create 2D numpy array using arange() function\n"
   ]
  },
  {
   "cell_type": "code",
   "execution_count": 1,
   "id": "ff3177ca",
   "metadata": {},
   "outputs": [
    {
     "name": "stdout",
     "output_type": "stream",
     "text": [
      "[[2 3 4 5]\n",
      " [6 7 8 9]]\n"
     ]
    }
   ],
   "source": [
    "import numpy as np\n",
    "a=np.arange(2,10).reshape(2,4)\n",
    "print(a)"
   ]
  },
  {
   "cell_type": "code",
   "execution_count": null,
   "id": "50c40908",
   "metadata": {},
   "outputs": [],
   "source": [
    "2.Create 3D array from 1D numpy array"
   ]
  },
  {
   "cell_type": "code",
   "execution_count": 4,
   "id": "be05ba0c",
   "metadata": {},
   "outputs": [
    {
     "name": "stdout",
     "output_type": "stream",
     "text": [
      "Method 1 : \n",
      " [[1 2 3]\n",
      " [4 5 6]\n",
      " [7 8 9]]\n",
      "Method 2 : \n",
      " [[1 2 3]\n",
      " [4 5 6]\n",
      " [7 8 9]]\n"
     ]
    }
   ],
   "source": [
    "import numpy as np\n",
    "\n",
    "a=[1,2,3]\n",
    "b=[4,5,6]\n",
    "c=[7,8,9]\n",
    "\n",
    "d=np.array([a,b,c])\n",
    "print(\"Method 1 : \\n\",d)\n",
    "\n",
    "a1=np.arange(1,10).reshape(3,3)\n",
    "print(\"Method 2 : \\n\",a1)\n",
    "\n"
   ]
  },
  {
   "cell_type": "code",
   "execution_count": null,
   "id": "5b6aa51e",
   "metadata": {},
   "outputs": [],
   "source": [
    "3.Write a NumPy program to create a 3x3 matrix with values ranging from 2 to 10"
   ]
  },
  {
   "cell_type": "code",
   "execution_count": 15,
   "id": "b64d032a",
   "metadata": {},
   "outputs": [
    {
     "name": "stdout",
     "output_type": "stream",
     "text": [
      "[[ 2  3  4]\n",
      " [ 5  6  7]\n",
      " [ 8  9 10]]\n"
     ]
    }
   ],
   "source": [
    "import numpy as np\n",
    "\n",
    "array=np.arange(2,11).reshape(3,3)\n",
    "\n",
    "print(array)"
   ]
  },
  {
   "cell_type": "code",
   "execution_count": null,
   "id": "0ea05d95",
   "metadata": {},
   "outputs": [],
   "source": [
    "4.Write a NumPy program to reverse an array (first element becomes last)"
   ]
  },
  {
   "cell_type": "code",
   "execution_count": 16,
   "id": "c1aeed82",
   "metadata": {},
   "outputs": [
    {
     "name": "stdout",
     "output_type": "stream",
     "text": [
      "Array = [2 3 4 5 6 7 8 9] \n",
      "Reverse of Array = [9 8 7 6 5 4 3 2] \n"
     ]
    }
   ],
   "source": [
    "import numpy as np\n",
    "\n",
    "array=np.arange(2,10)\n",
    "print(\"Array = {} \".format(array))\n",
    "\n",
    "rearray=array[::-1]\n",
    "print(\"Reverse of Array = {} \".format(rearray))"
   ]
  },
  {
   "cell_type": "code",
   "execution_count": null,
   "id": "ed4b6da0",
   "metadata": {},
   "outputs": [],
   "source": [
    "5.Write a NumPy program to create a 2d array with 1 on the border and 0 inside"
   ]
  },
  {
   "cell_type": "code",
   "execution_count": 5,
   "id": "238a99ce",
   "metadata": {},
   "outputs": [
    {
     "name": "stdout",
     "output_type": "stream",
     "text": [
      "[[1. 1. 1. 1.]\n",
      " [1. 0. 0. 1.]\n",
      " [1. 0. 0. 1.]\n",
      " [1. 1. 1. 1.]]\n"
     ]
    }
   ],
   "source": [
    "import numpy as np\n",
    "array = np.ones((4,4))\n",
    "array[1:-1,1:-1] = 0\n",
    "print(array)"
   ]
  },
  {
   "cell_type": "code",
   "execution_count": 6,
   "id": "1c9b82bd",
   "metadata": {},
   "outputs": [
    {
     "ename": "SyntaxError",
     "evalue": "invalid syntax (2256641449.py, line 1)",
     "output_type": "error",
     "traceback": [
      "\u001b[0;36m  File \u001b[0;32m\"/var/folders/7l/q3y71w9j0716xjqssf70yb900000gn/T/ipykernel_1185/2256641449.py\"\u001b[0;36m, line \u001b[0;32m1\u001b[0m\n\u001b[0;31m    6.Create a 2D array A with 4x4 size then split it into 3 different arrays B(1x4),C(2x4) and D(2x4).\u001b[0m\n\u001b[0m      ^\u001b[0m\n\u001b[0;31mSyntaxError\u001b[0m\u001b[0;31m:\u001b[0m invalid syntax\n"
     ]
    }
   ],
   "source": [
    "6.Create a 2D array A with 4x4 size then split it into 3 different arrays B(1x4),C(2x4) and D(2x4)."
   ]
  },
  {
   "cell_type": "code",
   "execution_count": 18,
   "id": "afa245f8",
   "metadata": {},
   "outputs": [
    {
     "name": "stdout",
     "output_type": "stream",
     "text": [
      "[[ 1  2  3  4]\n",
      " [ 5  6  7  8]\n",
      " [ 9 10 11 12]\n",
      " [13 14 15 16]]\n",
      "A =  [[1 2 3 4]]\n",
      "B = [[1 2 3 4]\n",
      " [5 6 7 8]]\n",
      "C = [[ 9 10 11 12]\n",
      " [13 14 15 16]]\n"
     ]
    }
   ],
   "source": [
    "import numpy as np\n",
    "\n",
    "array=np.arange(1,17).reshape(4,4)\n",
    "print(array)\n",
    "A=array[0:1]\n",
    "B=array[0:2]\n",
    "C=array[2:]\n",
    "print(\"A = \",A)\n",
    "print(\"B =\",B)\n",
    "print(\"C =\",C)\n",
    "\n"
   ]
  },
  {
   "cell_type": "code",
   "execution_count": null,
   "id": "3d08c4e7",
   "metadata": {},
   "outputs": [],
   "source": []
  },
  {
   "cell_type": "code",
   "execution_count": null,
   "id": "9ef1308a",
   "metadata": {},
   "outputs": [],
   "source": [
    "7.Perform element wise multiplication of arrays C and B in question 6."
   ]
  },
  {
   "cell_type": "code",
   "execution_count": 19,
   "id": "3faea142",
   "metadata": {},
   "outputs": [
    {
     "name": "stdout",
     "output_type": "stream",
     "text": [
      "[[  9  20  33  48]\n",
      " [ 65  84 105 128]]\n"
     ]
    }
   ],
   "source": [
    "multy=np.multiply(B,C)\n",
    "print(multy)"
   ]
  },
  {
   "cell_type": "code",
   "execution_count": null,
   "id": "f6fb3f07",
   "metadata": {},
   "outputs": [],
   "source": [
    "8.Create a numpy array matrix of size 3x4. Find column which has highest sum and display"
   ]
  },
  {
   "cell_type": "code",
   "execution_count": 20,
   "id": "7cbaa3c0",
   "metadata": {},
   "outputs": [
    {
     "name": "stdout",
     "output_type": "stream",
     "text": [
      "Sum of column is =  [15 18 21 24]\n",
      "24\n"
     ]
    }
   ],
   "source": [
    "import numpy as np\n",
    "array=np.arange(1,13).reshape(3,4)\n",
    "asum=array.sum(axis=0)\n",
    "print(\"Sum of column is = \",asum)\n",
    "print(max(asum))"
   ]
  },
  {
   "cell_type": "code",
   "execution_count": null,
   "id": "d8163127",
   "metadata": {},
   "outputs": [],
   "source": []
  }
 ],
 "metadata": {
  "kernelspec": {
   "display_name": "Python 3 (ipykernel)",
   "language": "python",
   "name": "python3"
  },
  "language_info": {
   "codemirror_mode": {
    "name": "ipython",
    "version": 3
   },
   "file_extension": ".py",
   "mimetype": "text/x-python",
   "name": "python",
   "nbconvert_exporter": "python",
   "pygments_lexer": "ipython3",
   "version": "3.9.7"
  }
 },
 "nbformat": 4,
 "nbformat_minor": 5
}
