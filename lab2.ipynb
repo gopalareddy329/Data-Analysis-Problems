{
 "cells": [
  {
   "cell_type": "markdown",
   "id": "9234b3af",
   "metadata": {},
   "source": [
    "1.Create 2D numpy array using arange() function"
   ]
  },
  {
   "cell_type": "code",
   "execution_count": 1,
   "id": "ff3177ca",
   "metadata": {},
   "outputs": [
    {
     "name": "stdout",
     "output_type": "stream",
     "text": [
      "[[2 3 4 5]\n",
      " [6 7 8 9]]\n"
     ]
    }
   ],
   "source": [
    "import numpy as np\n",
    "a=np.arange(2,10).reshape(2,4)\n",
    "print(a)"
   ]
  },
  {
   "cell_type": "markdown",
   "id": "a69fda02",
   "metadata": {},
   "source": [
    "2.Create 3D array from 1D numpy array"
   ]
  },
  {
   "cell_type": "code",
   "execution_count": 2,
   "id": "be05ba0c",
   "metadata": {},
   "outputs": [
    {
     "name": "stdout",
     "output_type": "stream",
     "text": [
      "Method 1 : \n",
      " [[1 2 3]\n",
      " [4 5 6]\n",
      " [7 8 9]]\n",
      "Method 2 : \n",
      " [[1 2 3]\n",
      " [4 5 6]\n",
      " [7 8 9]]\n"
     ]
    }
   ],
   "source": [
    "import numpy as np\n",
    "\n",
    "a=[1,2,3]\n",
    "b=[4,5,6]\n",
    "c=[7,8,9]\n",
    "\n",
    "d=np.array([a,b,c])\n",
    "print(\"Method 1 : \\n\",d)\n",
    "\n",
    "a1=np.arange(1,10).reshape(3,3)\n",
    "print(\"Method 2 : \\n\",a1)\n",
    "\n"
   ]
  },
  {
   "cell_type": "markdown",
   "id": "9d9cd1fa",
   "metadata": {},
   "source": [
    "3.Write a NumPy program to create a 3x3 matrix with values ranging from 2 to 10"
   ]
  },
  {
   "cell_type": "code",
   "execution_count": 3,
   "id": "b64d032a",
   "metadata": {},
   "outputs": [
    {
     "name": "stdout",
     "output_type": "stream",
     "text": [
      "[[ 2  3  4]\n",
      " [ 5  6  7]\n",
      " [ 8  9 10]]\n"
     ]
    }
   ],
   "source": [
    "import numpy as np\n",
    "\n",
    "array=np.arange(2,11).reshape(3,3)\n",
    "\n",
    "print(array)"
   ]
  },
  {
   "cell_type": "markdown",
   "id": "f6792b01",
   "metadata": {},
   "source": [
    "4.Write a NumPy program to reverse an array (first element becomes last)"
   ]
  },
  {
   "cell_type": "code",
   "execution_count": 4,
   "id": "c1aeed82",
   "metadata": {},
   "outputs": [
    {
     "name": "stdout",
     "output_type": "stream",
     "text": [
      "Array = [2 3 4 5 6 7 8 9] \n",
      "Reverse of Array = [9 8 7 6 5 4 3 2] \n"
     ]
    }
   ],
   "source": [
    "import numpy as np\n",
    "\n",
    "array=np.arange(2,10)\n",
    "print(\"Array = {} \".format(array))\n",
    "\n",
    "rearray=array[::-1]\n",
    "print(\"Reverse of Array = {} \".format(rearray))"
   ]
  },
  {
   "cell_type": "markdown",
   "id": "796e94f0",
   "metadata": {},
   "source": [
    "5.Write a NumPy program to create a 2d array with 1 on the border and 0 inside"
   ]
  },
  {
   "cell_type": "code",
   "execution_count": 5,
   "id": "238a99ce",
   "metadata": {},
   "outputs": [
    {
     "name": "stdout",
     "output_type": "stream",
     "text": [
      "[[1. 1. 1. 1.]\n",
      " [1. 0. 0. 1.]\n",
      " [1. 0. 0. 1.]\n",
      " [1. 1. 1. 1.]]\n"
     ]
    }
   ],
   "source": [
    "import numpy as np\n",
    "array = np.ones((4,4))\n",
    "array[1:-1,1:-1] = 0\n",
    "print(array)"
   ]
  },
  {
   "cell_type": "markdown",
   "id": "87549bae",
   "metadata": {},
   "source": [
    "6.Create a 2D array A with 4x4 size then split it into 3 different arrays B(1x4),C(2x4) and D(2x4)."
   ]
  },
  {
   "cell_type": "code",
   "execution_count": 6,
   "id": "afa245f8",
   "metadata": {},
   "outputs": [
    {
     "name": "stdout",
     "output_type": "stream",
     "text": [
      "[[ 1  2  3  4]\n",
      " [ 5  6  7  8]\n",
      " [ 9 10 11 12]\n",
      " [13 14 15 16]]\n",
      "A =  [[1 2 3 4]]\n",
      "B = [[1 2 3 4]\n",
      " [5 6 7 8]]\n",
      "C = [[ 9 10 11 12]\n",
      " [13 14 15 16]]\n"
     ]
    }
   ],
   "source": [
    "import numpy as np\n",
    "\n",
    "array=np.arange(1,17).reshape(4,4)\n",
    "print(array)\n",
    "A=array[0:1]\n",
    "B=array[0:2]\n",
    "C=array[2:]\n",
    "print(\"A = \",A)\n",
    "print(\"B =\",B)\n",
    "print(\"C =\",C)\n",
    "\n"
   ]
  },
  {
   "cell_type": "markdown",
   "id": "c66cf1e1",
   "metadata": {},
   "source": [
    "7.Perform element wise multiplication of arrays C and B in question 6."
   ]
  },
  {
   "cell_type": "code",
   "execution_count": 7,
   "id": "3faea142",
   "metadata": {},
   "outputs": [
    {
     "name": "stdout",
     "output_type": "stream",
     "text": [
      "[[  9  20  33  48]\n",
      " [ 65  84 105 128]]\n"
     ]
    }
   ],
   "source": [
    "multy=np.multiply(B,C)\n",
    "print(multy)"
   ]
  },
  {
   "cell_type": "markdown",
   "id": "fdcf1113",
   "metadata": {},
   "source": [
    "8.Create a numpy array matrix of size 3x4. Find column which has highest sum and display"
   ]
  },
  {
   "cell_type": "code",
   "execution_count": 8,
   "id": "7cbaa3c0",
   "metadata": {},
   "outputs": [
    {
     "name": "stdout",
     "output_type": "stream",
     "text": [
      "Sum of column is =  [15 18 21 24]\n",
      "24\n"
     ]
    }
   ],
   "source": [
    "import numpy as np\n",
    "array=np.arange(1,13).reshape(3,4)\n",
    "asum=array.sum(axis=0)\n",
    "print(\"Sum of column is = \",asum)\n",
    "print(max(asum))"
   ]
  }
 ],
 "metadata": {
  "interpreter": {
   "hash": "10056f97ee7b598198e7b1cb020029c83441ab92984a78a25c46770fe8d22946"
  },
  "kernelspec": {
   "display_name": "Python 3.9.7 ('base')",
   "language": "python",
   "name": "python3"
  },
  "language_info": {
   "codemirror_mode": {
    "name": "ipython",
    "version": 3
   },
   "file_extension": ".py",
   "mimetype": "text/x-python",
   "name": "python",
   "nbconvert_exporter": "python",
   "pygments_lexer": "ipython3",
   "version": "3.9.7"
  }
 },
 "nbformat": 4,
 "nbformat_minor": 5
}
