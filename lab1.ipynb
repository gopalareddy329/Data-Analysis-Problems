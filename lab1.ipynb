{
 "cells": [
  {
   "cell_type": "code",
   "execution_count": null,
   "id": "aed2e19c",
   "metadata": {},
   "outputs": [],
   "source": [
    "1. Write a Python program that prompts the user to enter an integer for today’s\n",
    "day of the week (Saturday is 0, Sunday is 1 ,. . . and Friday is 6). Also\n",
    "prompt the user to enter the number of days after today for a future day and\n",
    "display the future day of the week"
   ]
  },
  {
   "cell_type": "code",
   "execution_count": 1,
   "id": "0b93e64f",
   "metadata": {},
   "outputs": [
    {
     "name": "stdout",
     "output_type": "stream",
     "text": [
      "Enter the number : 1\n",
      "Enter the number in future : 3\n",
      "\n",
      "\n",
      "Today is :\n",
      "  Sunday\n",
      "\n",
      "After 3 days is \n",
      "Wednesday\n",
      "\n"
     ]
    }
   ],
   "source": [
    "number=int(input(\"Enter the number : \"))\n",
    "number2=int(input(\"Enter the number in future : \"))\n",
    "number3=(number+number2) % 7\n",
    "print(\"\\n\\nToday is :\")\n",
    "if number == 0 :\n",
    "        print(\"  Saturday\\n\")\n",
    "elif number== 1 :\n",
    "        print(\"  Sunday\\n\")\n",
    "elif number==2 :\n",
    "        print(\"  Monday\\n\")\n",
    "elif number==3:\n",
    "        print(\"  Tuesday\\n\")\n",
    "elif number == 4:\n",
    "        print(\"  Wednesday\\n\")\n",
    "elif number == 5:\n",
    "        print(\"  Thursday\")\n",
    "elif number == 6 :\n",
    "        print(\"  Friday\\n\")\n",
    "else :\n",
    "    print(\"Enter 0 to 6 only\")\n",
    "print(\"After {} days is \".format(number2))\n",
    "if number3 == 0 :\n",
    "        print(\"Saturday\\n\")\n",
    "elif number3== 1 :\n",
    "        print(\"Sunday\\n\")\n",
    "elif number3==2 :\n",
    "        print(\"Monday\\n\")\n",
    "elif number3==3:\n",
    "        print(\"Tuesday\\n\")\n",
    "elif number3 == 4:\n",
    "        print(\"Wednesday\\n\")\n",
    "elif number3 == 5:\n",
    "        print(\"Thursday\")\n",
    "elif number3 == 6 :\n",
    "        print(\"Friday\\n\")"
   ]
  },
  {
   "cell_type": "code",
   "execution_count": null,
   "id": "bfcc7719",
   "metadata": {},
   "outputs": [],
   "source": [
    "2. Write a program that asks the user to enter the width and length of a room.\n",
    "Once the values have been read, your program should compute and display\n",
    "the area of the room. The length and the width will be entered as floating\n",
    "point numbers. Include units in your prompt and output message; either feet\n",
    "or meters, depending on which unit you are more comfortable working with"
   ]
  },
  {
   "cell_type": "code",
   "execution_count": 2,
   "id": "dcfcdde5",
   "metadata": {},
   "outputs": [
    {
     "name": "stdout",
     "output_type": "stream",
     "text": [
      "Enter the length in ft : 10\n",
      "Enter the width in ft : 20\n",
      "Area of the give length and width is 200.0 ft^2 \n"
     ]
    }
   ],
   "source": [
    "length=float(input(\"Enter the length in ft : \"))\n",
    "width=float(input(\"Enter the width in ft : \"))\n",
    "area=length*width\n",
    "print(\"Area of the give length and width is {} ft^2 \".format(area))"
   ]
  },
  {
   "cell_type": "code",
   "execution_count": null,
   "id": "de2d198c",
   "metadata": {},
   "outputs": [],
   "source": [
    "3. Create a program that reads the length and width of a farmer’s field from the\n",
    "user in feet. Display the area of the field in acres. Hint: There are 43,560\n",
    "square feet in an acre"
   ]
  },
  {
   "cell_type": "code",
   "execution_count": 3,
   "id": "b40f71a7",
   "metadata": {},
   "outputs": [
    {
     "name": "stdout",
     "output_type": "stream",
     "text": [
      "Enter the length in ft : 5\n",
      "Enter the width in ft : 5\n",
      "Area of given length and width is 0.000573921028466483 Acre\n"
     ]
    }
   ],
   "source": [
    "length=float(input(\"Enter the length in ft : \"))\n",
    "width=float(input(\"Enter the width in ft : \"))\n",
    "area=(length*width)/43560\n",
    "print(\"Area of given length and width is {} Acre\".format(area))"
   ]
  },
  {
   "cell_type": "code",
   "execution_count": null,
   "id": "a497d6e4",
   "metadata": {},
   "outputs": [],
   "source": [
    "4. Write a program that reads a positive integer, n, from the user and then\n",
    "displays the sum of all of the integers from 1 to n. The sum of the first n\n",
    "positive integers can be computed using the formula: sum = (n)(n + 1)/2"
   ]
  },
  {
   "cell_type": "code",
   "execution_count": 4,
   "id": "ca291e76",
   "metadata": {},
   "outputs": [
    {
     "name": "stdout",
     "output_type": "stream",
     "text": [
      "Enter a positive integer : 10\n",
      "Sum of the positive integers is 55.0 \n"
     ]
    }
   ],
   "source": [
    "number=int(input(\"Enter a positive integer : \"))\n",
    "sum=(number*(number+1))/2\n",
    "print(\"Sum of the positive integers is {} \".format(sum))"
   ]
  },
  {
   "cell_type": "code",
   "execution_count": null,
   "id": "ca87d722",
   "metadata": {},
   "outputs": [],
   "source": [
    "5. Write a Python program that requests three integer values from the user. It\n",
    "then rints one of two things: if any of the values entered are duplicates, it\n",
    "prints\n",
    "&quot;DUPLICATES&quot;; otherwise, it prints &quot;ALL UNIQUE&quot;"
   ]
  },
  {
   "cell_type": "code",
   "execution_count": 5,
   "id": "8da780e1",
   "metadata": {},
   "outputs": [
    {
     "name": "stdout",
     "output_type": "stream",
     "text": [
      "Enter number 1 : 10\n",
      "Enter number 2 :20\n",
      "Enter number 3 : 10\n",
      "Duplicates\n"
     ]
    }
   ],
   "source": [
    "num1=int(input(\"Enter number 1 : \"))\n",
    "num2=int(input(\"Enter number 2 :\"))\n",
    "num3=int(input(\"Enter number 3 : \"))\n",
    "\n",
    "if ((num1 == num2) or (num1 == num3 )) or (num2 == num3 ):\n",
    "    print(\"Duplicates\")\n",
    "else :\n",
    "    print(\"Unique\")"
   ]
  },
  {
   "cell_type": "code",
   "execution_count": null,
   "id": "13c397e9",
   "metadata": {},
   "outputs": [],
   "source": [
    "6. Write a Python program that sorts three integers. Without using the sort ()\n",
    "function. The integers are entered from user using input function.\n",
    "For example if the user enters:\n",
    "7, 3, 5 then the output should be 3 &lt;=5 &lt;=7.\n",
    "6, 2, 6 then the output should be 2&lt;= 6 &lt;=6"
   ]
  },
  {
   "cell_type": "code",
   "execution_count": 6,
   "id": "6a37ab73",
   "metadata": {},
   "outputs": [
    {
     "name": "stdout",
     "output_type": "stream",
     "text": [
      "Enter number 1 : 10\n",
      "Enter number 2 :20\n",
      "Enter number 3 : 100\n",
      "100 >= 20 >= 10 \n"
     ]
    }
   ],
   "source": [
    "num1=int(input(\"Enter number 1 : \"))\n",
    "num2=int(input(\"Enter number 2 :\"))\n",
    "num3=int(input(\"Enter number 3 : \"))\n",
    "\n",
    "if ((num1 >= num2) and (num1 >= num3 )):\n",
    "    if (num2 >= num3) :\n",
    "        \n",
    "        print(\"{} >= {} >= {} \".format(num1,num2,num3))\n",
    "    else:\n",
    "        print(\"{} >= {} >= {} \".format(num1,num3,num2))\n",
    "\n",
    "elif ((num2 >= num1) and (num2 >= num3 )):\n",
    "    if (num1 >= num3) :\n",
    "        print(\"{} >= {} >= {} \".format(num2,num1,num3))\n",
    "    else:\n",
    "        print(\"{} >= {} >= {} \".format(num2,num3,num1))\n",
    "elif ((num3 >= num2) and (num3 >= num1 )):\n",
    "    if (num1 >= num2) :\n",
    "        print(\"{} >= {} >= {} \".format(num3,num1,num2))\n",
    "    else:\n",
    "        print(\"{} >= {} >= {} \".format(num3,num2,num1))"
   ]
  },
  {
   "cell_type": "code",
   "execution_count": null,
   "id": "60fccc9d",
   "metadata": {},
   "outputs": [],
   "source": [
    "7. Write a Python program that use an if statement to find the largest of three\n",
    "given integers. without using the max() function.\n",
    "For example if user enters: 25, 70, and 16 , then output should be: 70"
   ]
  },
  {
   "cell_type": "code",
   "execution_count": 7,
   "id": "eb6b5be4",
   "metadata": {},
   "outputs": [
    {
     "name": "stdout",
     "output_type": "stream",
     "text": [
      "Enter number 1 : 10\n",
      "Enter number 2 :20\n",
      "Enter number 3 : 30\n",
      "30\n"
     ]
    }
   ],
   "source": [
    "num1=int(input(\"Enter number 1 : \"))\n",
    "num2=int(input(\"Enter number 2 :\"))\n",
    "num3=int(input(\"Enter number 3 : \"))\n",
    "\n",
    "if ((num1 > num2) and (num1 > num3 )):\n",
    "    print(num1)\n",
    "elif ((num2 > num1) and (num2 > num3 )):\n",
    "    print(num2)\n",
    "else:\n",
    "    print(num3)\n",
    "\n"
   ]
  },
  {
   "cell_type": "code",
   "execution_count": null,
   "id": "033a9169",
   "metadata": {},
   "outputs": [],
   "source": [
    "8. A string is a palindrome if it is identical forward and backward. For example\n",
    "“anna”, “civic”, “level” and “hannah” are all examples of palindromic\n",
    "words. Write a program that reads a string from the user and uses a loop to"
   ]
  },
  {
   "cell_type": "code",
   "execution_count": 8,
   "id": "d7e633ca",
   "metadata": {},
   "outputs": [
    {
     "name": "stdout",
     "output_type": "stream",
     "text": [
      "Enter the word : amma\n",
      "palindrome\n"
     ]
    }
   ],
   "source": [
    "string=input(\"Enter the word : \")\n",
    "\n",
    "rev=string[::-1]\n",
    "\n",
    "if string==rev :\n",
    "    print(\"palindrome\")\n",
    "else :\n",
    "    print(\"Not palindrome\")"
   ]
  },
  {
   "cell_type": "code",
   "execution_count": null,
   "id": "42b3d9f2",
   "metadata": {},
   "outputs": [],
   "source": []
  }
 ],
 "metadata": {
  "kernelspec": {
   "display_name": "Python 3 (ipykernel)",
   "language": "python",
   "name": "python3"
  },
  "language_info": {
   "codemirror_mode": {
    "name": "ipython",
    "version": 3
   },
   "file_extension": ".py",
   "mimetype": "text/x-python",
   "name": "python",
   "nbconvert_exporter": "python",
   "pygments_lexer": "ipython3",
   "version": "3.9.7"
  }
 },
 "nbformat": 4,
 "nbformat_minor": 5
}
