{
 "cells": [
  {
   "cell_type": "markdown",
   "id": "f4ef8475",
   "metadata": {},
   "source": [
    "1. Create a pandas data frame d1 with following data"
   ]
  },
  {
   "cell_type": "code",
   "execution_count": 1,
   "id": "1200f5c9",
   "metadata": {},
   "outputs": [
    {
     "data": {
      "text/html": [
       "<div>\n",
       "<style scoped>\n",
       "    .dataframe tbody tr th:only-of-type {\n",
       "        vertical-align: middle;\n",
       "    }\n",
       "\n",
       "    .dataframe tbody tr th {\n",
       "        vertical-align: top;\n",
       "    }\n",
       "\n",
       "    .dataframe thead th {\n",
       "        text-align: right;\n",
       "    }\n",
       "</style>\n",
       "<table border=\"1\" class=\"dataframe\">\n",
       "  <thead>\n",
       "    <tr style=\"text-align: right;\">\n",
       "      <th></th>\n",
       "      <th>one</th>\n",
       "      <th>two</th>\n",
       "      <th>three</th>\n",
       "      <th>four</th>\n",
       "    </tr>\n",
       "  </thead>\n",
       "  <tbody>\n",
       "    <tr>\n",
       "      <th>Ohio</th>\n",
       "      <td>0</td>\n",
       "      <td>1</td>\n",
       "      <td>2</td>\n",
       "      <td>3</td>\n",
       "    </tr>\n",
       "    <tr>\n",
       "      <th>Colorado</th>\n",
       "      <td>4</td>\n",
       "      <td>5</td>\n",
       "      <td>6</td>\n",
       "      <td>7</td>\n",
       "    </tr>\n",
       "    <tr>\n",
       "      <th>New York</th>\n",
       "      <td>8</td>\n",
       "      <td>9</td>\n",
       "      <td>10</td>\n",
       "      <td>11</td>\n",
       "    </tr>\n",
       "  </tbody>\n",
       "</table>\n",
       "</div>"
      ],
      "text/plain": [
       "          one  two  three  four\n",
       "Ohio        0    1      2     3\n",
       "Colorado    4    5      6     7\n",
       "New York    8    9     10    11"
      ]
     },
     "execution_count": 1,
     "metadata": {},
     "output_type": "execute_result"
    }
   ],
   "source": [
    "import pandas as pd\n",
    "import numpy as np\n",
    "data={'one':[0,4,8],'two':[1,5,9],'three':[2,6,10],'four':[3,7,11]}\n",
    "lable=['Ohio','Colorado','New York']\n",
    "df=pd.DataFrame(data,index=lable)\n",
    "df4=df\n",
    "df"
   ]
  },
  {
   "cell_type": "markdown",
   "id": "4b085955",
   "metadata": {},
   "source": []
  },
  {
   "cell_type": "markdown",
   "id": "49f9ba17",
   "metadata": {},
   "source": [
    "2. Add two columns namely duplicate1, duplicate1 with data frame in question 1 and values to Columns using pandas series."
   ]
  },
  {
   "cell_type": "code",
   "execution_count": 2,
   "id": "d9c823e4",
   "metadata": {},
   "outputs": [
    {
     "data": {
      "text/html": [
       "<div>\n",
       "<style scoped>\n",
       "    .dataframe tbody tr th:only-of-type {\n",
       "        vertical-align: middle;\n",
       "    }\n",
       "\n",
       "    .dataframe tbody tr th {\n",
       "        vertical-align: top;\n",
       "    }\n",
       "\n",
       "    .dataframe thead th {\n",
       "        text-align: right;\n",
       "    }\n",
       "</style>\n",
       "<table border=\"1\" class=\"dataframe\">\n",
       "  <thead>\n",
       "    <tr style=\"text-align: right;\">\n",
       "      <th></th>\n",
       "      <th>one</th>\n",
       "      <th>two</th>\n",
       "      <th>three</th>\n",
       "      <th>four</th>\n",
       "      <th>duplicate1</th>\n",
       "      <th>duplicate2</th>\n",
       "    </tr>\n",
       "  </thead>\n",
       "  <tbody>\n",
       "    <tr>\n",
       "      <th>Ohio</th>\n",
       "      <td>0</td>\n",
       "      <td>1</td>\n",
       "      <td>2</td>\n",
       "      <td>3</td>\n",
       "      <td>1</td>\n",
       "      <td>1</td>\n",
       "    </tr>\n",
       "    <tr>\n",
       "      <th>Colorado</th>\n",
       "      <td>4</td>\n",
       "      <td>5</td>\n",
       "      <td>6</td>\n",
       "      <td>7</td>\n",
       "      <td>9</td>\n",
       "      <td>9</td>\n",
       "    </tr>\n",
       "    <tr>\n",
       "      <th>New York</th>\n",
       "      <td>8</td>\n",
       "      <td>9</td>\n",
       "      <td>10</td>\n",
       "      <td>11</td>\n",
       "      <td>17</td>\n",
       "      <td>17</td>\n",
       "    </tr>\n",
       "  </tbody>\n",
       "</table>\n",
       "</div>"
      ],
      "text/plain": [
       "          one  two  three  four  duplicate1  duplicate2\n",
       "Ohio        0    1      2     3           1           1\n",
       "Colorado    4    5      6     7           9           9\n",
       "New York    8    9     10    11          17          17"
      ]
     },
     "execution_count": 2,
     "metadata": {},
     "output_type": "execute_result"
    }
   ],
   "source": [
    "df1=df\n",
    "new_data=df.one+df.two\n",
    "df1['duplicate1']=new_data\n",
    "df1['duplicate2']=new_data\n",
    "df1"
   ]
  },
  {
   "cell_type": "markdown",
   "id": "5722a188",
   "metadata": {},
   "source": [
    "3. Drop New York row from the data frame obtained in the question 2 and store the result in DF3 And display."
   ]
  },
  {
   "cell_type": "code",
   "execution_count": 3,
   "id": "dfe69434",
   "metadata": {},
   "outputs": [
    {
     "data": {
      "text/html": [
       "<div>\n",
       "<style scoped>\n",
       "    .dataframe tbody tr th:only-of-type {\n",
       "        vertical-align: middle;\n",
       "    }\n",
       "\n",
       "    .dataframe tbody tr th {\n",
       "        vertical-align: top;\n",
       "    }\n",
       "\n",
       "    .dataframe thead th {\n",
       "        text-align: right;\n",
       "    }\n",
       "</style>\n",
       "<table border=\"1\" class=\"dataframe\">\n",
       "  <thead>\n",
       "    <tr style=\"text-align: right;\">\n",
       "      <th></th>\n",
       "      <th>one</th>\n",
       "      <th>two</th>\n",
       "      <th>three</th>\n",
       "      <th>four</th>\n",
       "      <th>duplicate1</th>\n",
       "      <th>duplicate2</th>\n",
       "    </tr>\n",
       "  </thead>\n",
       "  <tbody>\n",
       "    <tr>\n",
       "      <th>Ohio</th>\n",
       "      <td>0</td>\n",
       "      <td>1</td>\n",
       "      <td>2</td>\n",
       "      <td>3</td>\n",
       "      <td>1</td>\n",
       "      <td>1</td>\n",
       "    </tr>\n",
       "    <tr>\n",
       "      <th>Colorado</th>\n",
       "      <td>4</td>\n",
       "      <td>5</td>\n",
       "      <td>6</td>\n",
       "      <td>7</td>\n",
       "      <td>9</td>\n",
       "      <td>9</td>\n",
       "    </tr>\n",
       "  </tbody>\n",
       "</table>\n",
       "</div>"
      ],
      "text/plain": [
       "          one  two  three  four  duplicate1  duplicate2\n",
       "Ohio        0    1      2     3           1           1\n",
       "Colorado    4    5      6     7           9           9"
      ]
     },
     "execution_count": 3,
     "metadata": {},
     "output_type": "execute_result"
    }
   ],
   "source": [
    "DF3=df1.drop('New York')\n",
    "DF3"
   ]
  },
  {
   "cell_type": "markdown",
   "id": "92dc1884",
   "metadata": {},
   "source": [
    "4. Create a pandas series with values 0-9 and provide the indexes one, two, three…..nine."
   ]
  },
  {
   "cell_type": "code",
   "execution_count": 4,
   "id": "7a085281",
   "metadata": {},
   "outputs": [
    {
     "data": {
      "text/plain": [
       "one      0\n",
       "two      1\n",
       "three    2\n",
       "four     3\n",
       "five     4\n",
       "six      5\n",
       "seven    6\n",
       "eight    7\n",
       "nine     8\n",
       "dtype: int64"
      ]
     },
     "execution_count": 4,
     "metadata": {},
     "output_type": "execute_result"
    }
   ],
   "source": [
    "s = pd.Series(np.arange(9), index=[\"one\", \"two\", \"three\", \"four\", \"five\",\"six\",\"seven\",\"eight\",\"nine\"])\n",
    "s"
   ]
  },
  {
   "cell_type": "markdown",
   "id": "0879c08d",
   "metadata": {},
   "source": [
    "5. Perform division operation between data frame obtained in question 1 and pandas series\n",
    "Obtained in question 4 and store the result in another variable."
   ]
  },
  {
   "cell_type": "code",
   "execution_count": 5,
   "id": "cee3de63",
   "metadata": {},
   "outputs": [
    {
     "data": {
      "text/html": [
       "<div>\n",
       "<style scoped>\n",
       "    .dataframe tbody tr th:only-of-type {\n",
       "        vertical-align: middle;\n",
       "    }\n",
       "\n",
       "    .dataframe tbody tr th {\n",
       "        vertical-align: top;\n",
       "    }\n",
       "\n",
       "    .dataframe thead th {\n",
       "        text-align: right;\n",
       "    }\n",
       "</style>\n",
       "<table border=\"1\" class=\"dataframe\">\n",
       "  <thead>\n",
       "    <tr style=\"text-align: right;\">\n",
       "      <th></th>\n",
       "      <th>duplicate1</th>\n",
       "      <th>duplicate2</th>\n",
       "      <th>eight</th>\n",
       "      <th>five</th>\n",
       "      <th>four</th>\n",
       "      <th>nine</th>\n",
       "      <th>one</th>\n",
       "      <th>seven</th>\n",
       "      <th>six</th>\n",
       "      <th>three</th>\n",
       "      <th>two</th>\n",
       "    </tr>\n",
       "  </thead>\n",
       "  <tbody>\n",
       "    <tr>\n",
       "      <th>Ohio</th>\n",
       "      <td>NaN</td>\n",
       "      <td>NaN</td>\n",
       "      <td>NaN</td>\n",
       "      <td>NaN</td>\n",
       "      <td>1.000000</td>\n",
       "      <td>NaN</td>\n",
       "      <td>NaN</td>\n",
       "      <td>NaN</td>\n",
       "      <td>NaN</td>\n",
       "      <td>1.0</td>\n",
       "      <td>1.0</td>\n",
       "    </tr>\n",
       "    <tr>\n",
       "      <th>Colorado</th>\n",
       "      <td>NaN</td>\n",
       "      <td>NaN</td>\n",
       "      <td>NaN</td>\n",
       "      <td>NaN</td>\n",
       "      <td>2.333333</td>\n",
       "      <td>NaN</td>\n",
       "      <td>inf</td>\n",
       "      <td>NaN</td>\n",
       "      <td>NaN</td>\n",
       "      <td>3.0</td>\n",
       "      <td>5.0</td>\n",
       "    </tr>\n",
       "    <tr>\n",
       "      <th>New York</th>\n",
       "      <td>NaN</td>\n",
       "      <td>NaN</td>\n",
       "      <td>NaN</td>\n",
       "      <td>NaN</td>\n",
       "      <td>3.666667</td>\n",
       "      <td>NaN</td>\n",
       "      <td>inf</td>\n",
       "      <td>NaN</td>\n",
       "      <td>NaN</td>\n",
       "      <td>5.0</td>\n",
       "      <td>9.0</td>\n",
       "    </tr>\n",
       "  </tbody>\n",
       "</table>\n",
       "</div>"
      ],
      "text/plain": [
       "          duplicate1  duplicate2  eight  five      four  nine  one  seven  \\\n",
       "Ohio             NaN         NaN    NaN   NaN  1.000000   NaN  NaN    NaN   \n",
       "Colorado         NaN         NaN    NaN   NaN  2.333333   NaN  inf    NaN   \n",
       "New York         NaN         NaN    NaN   NaN  3.666667   NaN  inf    NaN   \n",
       "\n",
       "          six  three  two  \n",
       "Ohio      NaN    1.0  1.0  \n",
       "Colorado  NaN    3.0  5.0  \n",
       "New York  NaN    5.0  9.0  "
      ]
     },
     "execution_count": 5,
     "metadata": {},
     "output_type": "execute_result"
    }
   ],
   "source": [
    "new_data=df.div(s)\n",
    "new_data"
   ]
  },
  {
   "cell_type": "markdown",
   "id": "ab052c65",
   "metadata": {},
   "source": [
    "6. Create NaN value with DataFrame question 1,check if a DataFrame d1 has may missing value, to replace NaNs with a single constant value in specified columns in a DataFrame."
   ]
  },
  {
   "cell_type": "code",
   "execution_count": 6,
   "id": "df650c02",
   "metadata": {},
   "outputs": [
    {
     "data": {
      "text/html": [
       "<div>\n",
       "<style scoped>\n",
       "    .dataframe tbody tr th:only-of-type {\n",
       "        vertical-align: middle;\n",
       "    }\n",
       "\n",
       "    .dataframe tbody tr th {\n",
       "        vertical-align: top;\n",
       "    }\n",
       "\n",
       "    .dataframe thead th {\n",
       "        text-align: right;\n",
       "    }\n",
       "</style>\n",
       "<table border=\"1\" class=\"dataframe\">\n",
       "  <thead>\n",
       "    <tr style=\"text-align: right;\">\n",
       "      <th></th>\n",
       "      <th>duplicate1</th>\n",
       "      <th>duplicate2</th>\n",
       "      <th>eight</th>\n",
       "      <th>five</th>\n",
       "      <th>four</th>\n",
       "      <th>nine</th>\n",
       "      <th>one</th>\n",
       "      <th>seven</th>\n",
       "      <th>six</th>\n",
       "      <th>three</th>\n",
       "      <th>two</th>\n",
       "    </tr>\n",
       "  </thead>\n",
       "  <tbody>\n",
       "    <tr>\n",
       "      <th>Ohio</th>\n",
       "      <td>0.0</td>\n",
       "      <td>0.0</td>\n",
       "      <td>0.0</td>\n",
       "      <td>0.0</td>\n",
       "      <td>1.000000</td>\n",
       "      <td>0.0</td>\n",
       "      <td>0.0</td>\n",
       "      <td>0.0</td>\n",
       "      <td>0.0</td>\n",
       "      <td>1.0</td>\n",
       "      <td>1.0</td>\n",
       "    </tr>\n",
       "    <tr>\n",
       "      <th>Colorado</th>\n",
       "      <td>0.0</td>\n",
       "      <td>0.0</td>\n",
       "      <td>0.0</td>\n",
       "      <td>0.0</td>\n",
       "      <td>2.333333</td>\n",
       "      <td>0.0</td>\n",
       "      <td>inf</td>\n",
       "      <td>0.0</td>\n",
       "      <td>0.0</td>\n",
       "      <td>3.0</td>\n",
       "      <td>5.0</td>\n",
       "    </tr>\n",
       "    <tr>\n",
       "      <th>New York</th>\n",
       "      <td>0.0</td>\n",
       "      <td>0.0</td>\n",
       "      <td>0.0</td>\n",
       "      <td>0.0</td>\n",
       "      <td>3.666667</td>\n",
       "      <td>0.0</td>\n",
       "      <td>inf</td>\n",
       "      <td>0.0</td>\n",
       "      <td>0.0</td>\n",
       "      <td>5.0</td>\n",
       "      <td>9.0</td>\n",
       "    </tr>\n",
       "  </tbody>\n",
       "</table>\n",
       "</div>"
      ],
      "text/plain": [
       "          duplicate1  duplicate2  eight  five      four  nine  one  seven  \\\n",
       "Ohio             0.0         0.0    0.0   0.0  1.000000   0.0  0.0    0.0   \n",
       "Colorado         0.0         0.0    0.0   0.0  2.333333   0.0  inf    0.0   \n",
       "New York         0.0         0.0    0.0   0.0  3.666667   0.0  inf    0.0   \n",
       "\n",
       "          six  three  two  \n",
       "Ohio      0.0    1.0  1.0  \n",
       "Colorado  0.0    3.0  5.0  \n",
       "New York  0.0    5.0  9.0  "
      ]
     },
     "metadata": {},
     "output_type": "display_data"
    },
    {
     "name": "stdout",
     "output_type": "stream",
     "text": [
      "Single coloum : \n",
      " Ohio        0.0\n",
      "Colorado    0.0\n",
      "New York    0.0\n",
      "Name: duplicate1, dtype: float64\n"
     ]
    }
   ],
   "source": [
    "result = new_data['duplicate1'].fillna(0)\n",
    "spe_col=new_data.fillna(0)\n",
    "display(spe_col)\n",
    "print(\"Single coloum : \\n\",result)"
   ]
  },
  {
   "cell_type": "markdown",
   "id": "a659774b",
   "metadata": {},
   "source": [
    "7. Creating a series containing two arrays of indexes (i.e., creating a structure with two levels) and swap two level."
   ]
  },
  {
   "cell_type": "code",
   "execution_count": 7,
   "id": "3af3a9b3",
   "metadata": {},
   "outputs": [
    {
     "data": {
      "text/html": [
       "<div>\n",
       "<style scoped>\n",
       "    .dataframe tbody tr th:only-of-type {\n",
       "        vertical-align: middle;\n",
       "    }\n",
       "\n",
       "    .dataframe tbody tr th {\n",
       "        vertical-align: top;\n",
       "    }\n",
       "\n",
       "    .dataframe thead th {\n",
       "        text-align: right;\n",
       "    }\n",
       "</style>\n",
       "<table border=\"1\" class=\"dataframe\">\n",
       "  <thead>\n",
       "    <tr style=\"text-align: right;\">\n",
       "      <th></th>\n",
       "      <th>(5, 6, 7, 8)</th>\n",
       "    </tr>\n",
       "  </thead>\n",
       "  <tbody>\n",
       "    <tr>\n",
       "      <th>(1, 2, 3, 4)</th>\n",
       "      <td>[one, two, three, four, five, six, seven, eight]</td>\n",
       "    </tr>\n",
       "  </tbody>\n",
       "</table>\n",
       "</div>"
      ],
      "text/plain": [
       "                                                  (5, 6, 7, 8)\n",
       "(1, 2, 3, 4)  [one, two, three, four, five, six, seven, eight]"
      ]
     },
     "execution_count": 7,
     "metadata": {},
     "output_type": "execute_result"
    }
   ],
   "source": [
    "list = ['one,two,three,four,five,six,seven,eight'.split(',')]\n",
    "s = pd.Series(list, [[range(1,5)],[range(5,9)]]).unstack()\n",
    "s"
   ]
  },
  {
   "cell_type": "markdown",
   "id": "6c1cd7c0",
   "metadata": {},
   "source": [
    "8. With data frame Question 1 convert into series."
   ]
  },
  {
   "cell_type": "code",
   "execution_count": 8,
   "id": "49fed589",
   "metadata": {},
   "outputs": [
    {
     "data": {
      "text/plain": [
       "0      0\n",
       "1      1\n",
       "2      2\n",
       "3      3\n",
       "4      1\n",
       "5      1\n",
       "6      4\n",
       "7      5\n",
       "8      6\n",
       "9      7\n",
       "10     9\n",
       "11     9\n",
       "12     8\n",
       "13     9\n",
       "14    10\n",
       "15    11\n",
       "16    17\n",
       "17    17\n",
       "dtype: int64"
      ]
     },
     "execution_count": 8,
     "metadata": {},
     "output_type": "execute_result"
    }
   ],
   "source": [
    "a = df4.apply(pd.Series).stack().reset_index(drop=True)\n",
    "a"
   ]
  }
 ],
 "metadata": {
  "interpreter": {
   "hash": "10056f97ee7b598198e7b1cb020029c83441ab92984a78a25c46770fe8d22946"
  },
  "kernelspec": {
   "display_name": "Python 3.9.7 ('base')",
   "language": "python",
   "name": "python3"
  },
  "language_info": {
   "codemirror_mode": {
    "name": "ipython",
    "version": 3
   },
   "file_extension": ".py",
   "mimetype": "text/x-python",
   "name": "python",
   "nbconvert_exporter": "python",
   "pygments_lexer": "ipython3",
   "version": "3.9.7"
  }
 },
 "nbformat": 4,
 "nbformat_minor": 5
}
