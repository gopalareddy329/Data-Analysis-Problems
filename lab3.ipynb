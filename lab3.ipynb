{
 "cells": [
  {
   "cell_type": "markdown",
   "id": "5098b3a4",
   "metadata": {},
   "source": [
    "1.Create a 2D numpy array with 5x5 elements and store it in .npy file and display."
   ]
  },
  {
   "cell_type": "code",
   "execution_count": 7,
   "id": "946da8b2",
   "metadata": {},
   "outputs": [
    {
     "data": {
      "text/plain": [
       "array([[0.32946605, 0.77143129, 0.18188672, 0.56861952, 0.83175265],\n",
       "       [0.8723114 , 0.53185393, 0.2573446 , 0.75653041, 0.30528753],\n",
       "       [0.90902565, 0.913433  , 0.94718316, 0.8464108 , 0.41214329],\n",
       "       [0.08539853, 0.68758249, 0.40384795, 0.52463064, 0.57063027],\n",
       "       [0.53775715, 0.73427569, 0.00698862, 0.55443254, 0.99681773]])"
      ]
     },
     "execution_count": 7,
     "metadata": {},
     "output_type": "execute_result"
    }
   ],
   "source": [
    "import numpy as np\n",
    "data=np.random.random((5,5))\n",
    "np.save('saved_data',data)\n",
    "loaded_data = np.load('saved_data.npy')\n",
    "loaded_data"
   ]
  },
  {
   "cell_type": "markdown",
   "id": "43812b55",
   "metadata": {},
   "source": [
    "2. Create a .csv file in the name demo and store reg.no, name, section, mark1, mark2, mark3 values of 10 students."
   ]
  },
  {
   "cell_type": "code",
   "execution_count": 8,
   "id": "fe1fca36",
   "metadata": {},
   "outputs": [
    {
     "name": "stdout",
     "output_type": "stream",
     "text": [
      "[['Gopala' 'Hrithik' 'Gokul' 'Avinesh' 'Devaj' 'Sandeep' 'Prasoon'\n",
      "  'Shiva' 'Sai' 'Sharjoy']\n",
      " ['D2' 'D2' 'D2' 'D2' 'D2' 'D2' 'D2' 'D2' 'D2' 'D2']\n",
      " ['92' '65' '21' '38' '76' '89' '47' '20' '68' '86']\n",
      " ['68' '29' '37' '25' '80' '22' '14' '80' '15' '52']\n",
      " ['42' '31' '7' '3' '45' '70' '7' '27' '26' '1']]\n"
     ]
    }
   ],
   "source": [
    "import pandas as pd\n",
    "names = np.array(\"Gopala,Hrithik,Gokul,Avinesh,Devaj,Sandeep,Prasoon,Shiva,Sai,Sharjoy\".split(\",\"))\n",
    "section= np.array(('D2,'*10).split(','))\n",
    "mark1 =  np.random.randint(100,size=(10,))\n",
    "mark2 =  np.random.randint(100,size=(10,))\n",
    "mark3 =  np.random.randint(100,size=(10,))\n",
    "section=np.delete(section,10)\n",
    "data = np.array([[names],[section],[mark1],[mark2],[mark3]])\n",
    "data_n = data.reshape(5,10)\n",
    "print(data_n)\n",
    "csv_rows = [\"{},{},{},{},{}\".format(i, j, k,m,n) for i, j, k, m, n in data_n.T]\n",
    "csv_text = \"\\n\".join(csv_rows)\n",
    "with open('demo.csv', 'w') as f:\n",
    "    f.write(csv_text)\n",
    "f.close\n",
    "file = pd.read_csv(\"demo.csv\")\n",
    "headerList = ['Name', 'Section', 'Mark1','Mark2','Mark3']\n",
    "file.to_csv(\"demo.csv\", header=headerList, index=False)"
   ]
  },
  {
   "cell_type": "markdown",
   "id": "5a407067",
   "metadata": {},
   "source": [
    "3. Load the demo.csv file content into numpy array."
   ]
  },
  {
   "cell_type": "code",
   "execution_count": 9,
   "id": "cdd46afd",
   "metadata": {},
   "outputs": [
    {
     "data": {
      "text/plain": [
       "array([['Name', 'Section', 'Mark1', 'Mark2', 'Mark3'],\n",
       "       ['Hrithik', 'D2', '65', '29', '31'],\n",
       "       ['Gokul', 'D2', '21', '37', '7'],\n",
       "       ['Avinesh', 'D2', '38', '25', '3'],\n",
       "       ['Devaj', 'D2', '76', '80', '45'],\n",
       "       ['Sandeep', 'D2', '89', '22', '70'],\n",
       "       ['Prasoon', 'D2', '47', '14', '7'],\n",
       "       ['Shiva', 'D2', '20', '80', '27'],\n",
       "       ['Sai', 'D2', '68', '15', '26'],\n",
       "       ['Sharjoy', 'D2', '86', '52', '1']], dtype='<U7')"
      ]
     },
     "execution_count": 9,
     "metadata": {},
     "output_type": "execute_result"
    }
   ],
   "source": [
    "data = np.genfromtxt('demo.csv',delimiter=\",\",dtype =str)\n",
    "data"
   ]
  },
  {
   "cell_type": "code",
   "execution_count": null,
   "id": "1277b122",
   "metadata": {},
   "outputs": [],
   "source": []
  }
 ],
 "metadata": {
  "kernelspec": {
   "display_name": "Python 3 (ipykernel)",
   "language": "python",
   "name": "python3"
  },
  "language_info": {
   "codemirror_mode": {
    "name": "ipython",
    "version": 3
   },
   "file_extension": ".py",
   "mimetype": "text/x-python",
   "name": "python",
   "nbconvert_exporter": "python",
   "pygments_lexer": "ipython3",
   "version": "3.9.7"
  }
 },
 "nbformat": 4,
 "nbformat_minor": 5
}
