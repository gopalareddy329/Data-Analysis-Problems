{
 "cells": [
  {
   "cell_type": "markdown",
   "id": "79b6c7ea",
   "metadata": {},
   "source": [
    "1.Create a 2D numpy array with 5x5 elements and store it in .npy file and display. "
   ]
  },
  {
   "cell_type": "code",
   "execution_count": 2,
   "id": "6c470b82",
   "metadata": {},
   "outputs": [
    {
     "data": {
      "text/plain": [
       "array([[2.79042977e-01, 7.93232786e-01, 1.40523725e-01, 9.33129390e-01,\n",
       "        8.43779498e-01],\n",
       "       [6.93767128e-01, 1.47078552e-01, 2.53167369e-01, 1.50383480e-01,\n",
       "        8.24993748e-01],\n",
       "       [8.35856766e-01, 7.67174140e-04, 2.09836716e-01, 3.00634836e-01,\n",
       "        9.80208385e-01],\n",
       "       [3.35153895e-01, 7.80726267e-03, 6.05694844e-01, 5.72494556e-01,\n",
       "        9.11273575e-01],\n",
       "       [7.59443112e-01, 3.49101155e-01, 5.38308535e-01, 8.72332065e-01,\n",
       "        1.69365598e-01]])"
      ]
     },
     "execution_count": 2,
     "metadata": {},
     "output_type": "execute_result"
    }
   ],
   "source": [
    "import numpy as np\n",
    "data=np.random.random((5,5))\n",
    "np.save('saved_data',data)\n",
    "loaded_data = np.load('saved_data.npy')\n",
    "loaded_data"
   ]
  },
  {
   "cell_type": "markdown",
   "id": "04bcdc83",
   "metadata": {},
   "source": [
    "2. Create a .csv file in the name demo and store reg.no, name, section, mark1, mark2, mark3 values of 10 students. "
   ]
  },
  {
   "cell_type": "code",
   "execution_count": 35,
   "id": "a2c49c6e",
   "metadata": {},
   "outputs": [
    {
     "name": "stdout",
     "output_type": "stream",
     "text": [
      "[['Gopala' 'Hrithik' 'Gokul' 'Avinesh' 'Devaj' 'Sandeep' 'Prasoon'\n",
      "  'Shiva' 'Sai' 'Sharjoy']\n",
      " ['D2' 'D2' 'D2' 'D2' 'D2' 'D2' 'D2' 'D2' 'D2' 'D2']\n",
      " ['93' '56' '10' '71' '96' '9' '85' '49' '93' '70']\n",
      " ['16' '30' '60' '27' '94' '25' '57' '75' '33' '44']\n",
      " ['71' '4' '23' '77' '54' '99' '22' '56' '43' '69']]\n"
     ]
    },
    {
     "data": {
      "text/plain": [
       "<function TextIOWrapper.close()>"
      ]
     },
     "execution_count": 35,
     "metadata": {},
     "output_type": "execute_result"
    }
   ],
   "source": [
    "names = np.array(\"Gopala,Hrithik,Gokul,Avinesh,Devaj,Sandeep,Prasoon,Shiva,Sai,Sharjoy\".split(\",\"))\n",
    "head=np.array(\"Name,Section,Mark1,Mark2,Mark3\".split(\",\"))\n",
    "section= np.array(('D2,'*10).split(','))\n",
    "mark1 =  np.random.randint(100,size=(10,))\n",
    "mark2 =  np.random.randint(100,size=(10,))\n",
    "mark3 =  np.random.randint(100,size=(10,))\n",
    "section=np.delete(section,10)\n",
    "data = np.array([[names],[section],[mark1],[mark2],[mark3]])\n",
    "data_n = data.reshape(5,10)\n",
    "print(data_n)\n",
    "csv_rows = [\"{},{},{},{},{}\".format(i, j, k,m,n) for i, j, k, m, n in data_n.T]\n",
    "csv_text = \"\\n\".join(csv_rows)\n",
    "csv_head1=[\"{}\".format(i) for i in head]\n",
    "csv_head=\"\\n\".join(csv_head1)\n",
    "with open('demo.csv', 'w') as f:\n",
    "    f.write(csv_head)\n",
    "f.close\n",
    "with open('demo.csv', 'a') as f:\n",
    "    f.write(csv_text)\n",
    "f.close\n"
   ]
  },
  {
   "cell_type": "markdown",
   "id": "d6c4d9d0",
   "metadata": {},
   "source": [
    "3. Load the demo.csv file content into numpy array."
   ]
  },
  {
   "cell_type": "code",
   "execution_count": null,
   "id": "751a10be",
   "metadata": {},
   "outputs": [
    {
     "data": {
      "text/plain": [
       "array([['Gopala', 'D2', '40', '36', '89'],\n",
       "       ['Hrithik', 'D2', '29', '32', '55'],\n",
       "       ['Gokul', 'D2', '44', '63', '45'],\n",
       "       ['Avinesh', 'D2', '22', '70', '14'],\n",
       "       ['Devaj', 'D2', '10', '44', '6'],\n",
       "       ['Sandeep', 'D2', '65', '25', '97'],\n",
       "       ['Prasoon', 'D2', '89', '79', '60'],\n",
       "       ['Shiva', 'D2', '56', '11', '91'],\n",
       "       ['Sai', 'D2', '28', '0', '40'],\n",
       "       ['Sharjoy', 'D2', '88', '58', '74']], dtype='<U7')"
      ]
     },
     "execution_count": 6,
     "metadata": {},
     "output_type": "execute_result"
    }
   ],
   "source": [
    "data = np.genfromtxt('demo.csv',delimiter=\",\",dtype =str)\n",
    "data"
   ]
  },
  {
   "cell_type": "code",
   "execution_count": null,
   "id": "9ff3ffcc",
   "metadata": {},
   "outputs": [],
   "source": []
  },
  {
   "cell_type": "code",
   "execution_count": null,
   "id": "d9eb5668",
   "metadata": {},
   "outputs": [],
   "source": []
  }
 ],
 "metadata": {
  "kernelspec": {
   "display_name": "Python 3 (ipykernel)",
   "language": "python",
   "name": "python3"
  },
  "language_info": {
   "codemirror_mode": {
    "name": "ipython",
    "version": 3
   },
   "file_extension": ".py",
   "mimetype": "text/x-python",
   "name": "python",
   "nbconvert_exporter": "python",
   "pygments_lexer": "ipython3",
   "version": "3.9.7"
  }
 },
 "nbformat": 4,
 "nbformat_minor": 5
}
