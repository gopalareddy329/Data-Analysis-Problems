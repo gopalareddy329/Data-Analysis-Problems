{
 "cells": [
  {
   "cell_type": "markdown",
   "id": "79b6c7ea",
   "metadata": {},
   "source": [
    "1.Create a 2D numpy array with 5x5 elements and store it in .npy file and display. "
   ]
  },
  {
   "cell_type": "code",
   "execution_count": 1,
   "id": "6c470b82",
   "metadata": {},
   "outputs": [
    {
     "data": {
      "text/plain": [
       "array([[0.52098218, 0.14930806, 0.07471426, 0.98169673, 0.79810569],\n",
       "       [0.69878264, 0.93820415, 0.761335  , 0.02255069, 0.44509086],\n",
       "       [0.51144905, 0.13913779, 0.06513571, 0.45200897, 0.46765596],\n",
       "       [0.74696976, 0.84069327, 0.58133542, 0.8869225 , 0.76751054],\n",
       "       [0.93562485, 0.17221624, 0.50750702, 0.61313778, 0.17578711]])"
      ]
     },
     "execution_count": 1,
     "metadata": {},
     "output_type": "execute_result"
    }
   ],
   "source": [
    "import numpy as np\n",
    "data=np.random.random((5,5))\n",
    "np.save('saved_data',data)\n",
    "loaded_data = np.load('saved_data.npy')\n",
    "loaded_data"
   ]
  },
  {
   "cell_type": "markdown",
   "id": "04bcdc83",
   "metadata": {},
   "source": [
    "2. Create a .csv file in the name demo and store reg.no, name, section, mark1, mark2, mark3 values of 10 students. "
   ]
  },
  {
   "cell_type": "code",
   "execution_count": 11,
   "id": "a2c49c6e",
   "metadata": {},
   "outputs": [],
   "source": [
    "names = np.array(\"Gopala,Hrithik,Gokul,Avinesh,Devaj,Sandeep,Prasoon,Shiva,Sai,Sharjoy\".split(\",\"))\n",
    "section= np.array(('D2,'*10).split(','))\n",
    "mark1 =  np.random.randint(100,size=(10,))\n",
    "mark2 =  np.random.randint(100,size=(10,))\n",
    "mark3 =  np.random.randint(100,size=(10,))\n",
    "section=np.delete(section,10)\n",
    "data = np.array([[names],[section],[mark1],[mark2],[mark3]])\n",
    "data_n = data.reshape(5,10)\n",
    "csv_rows = [\"{},{},{},{},{}\".format(i, j, k,m,n) for i, j, k, m, n in data_n.T]\n",
    "csv_text = \"\\n\".join(csv_rows)\n",
    "\n",
    "with open('demo.csv', 'w') as f:\n",
    "    f.write(csv_text)\n",
    "    f.close()"
   ]
  },
  {
   "cell_type": "markdown",
   "id": "d6c4d9d0",
   "metadata": {},
   "source": [
    "3. Load the demo.csv file content into numpy array."
   ]
  },
  {
   "cell_type": "code",
   "execution_count": 12,
   "id": "751a10be",
   "metadata": {},
   "outputs": [
    {
     "data": {
      "text/plain": [
       "array([['Gopala', 'D2', '13', '76', '68'],\n",
       "       ['Hrithik', 'D2', '53', '9', '51'],\n",
       "       ['Gokul', 'D2', '62', '14', '13'],\n",
       "       ['Avinesh', 'D2', '81', '29', '87'],\n",
       "       ['Devaj', 'D2', '97', '52', '31'],\n",
       "       ['Sandeep', 'D2', '83', '39', '41'],\n",
       "       ['Prasoon', 'D2', '6', '64', '47'],\n",
       "       ['Shiva', 'D2', '79', '17', '20'],\n",
       "       ['Sai', 'D2', '67', '63', '54'],\n",
       "       ['Sharjoy', 'D2', '82', '2', '58']], dtype='<U7')"
      ]
     },
     "execution_count": 12,
     "metadata": {},
     "output_type": "execute_result"
    }
   ],
   "source": [
    "data = np.genfromtxt('demo.csv',delimiter=\",\",dtype =str)\n",
    "data"
   ]
  }
 ],
 "metadata": {
  "interpreter": {
   "hash": "10056f97ee7b598198e7b1cb020029c83441ab92984a78a25c46770fe8d22946"
  },
  "kernelspec": {
   "display_name": "Python 3.9.7 ('base')",
   "language": "python",
   "name": "python3"
  },
  "language_info": {
   "codemirror_mode": {
    "name": "ipython",
    "version": 3
   },
   "file_extension": ".py",
   "mimetype": "text/x-python",
   "name": "python",
   "nbconvert_exporter": "python",
   "pygments_lexer": "ipython3",
   "version": "3.9.7"
  }
 },
 "nbformat": 4,
 "nbformat_minor": 5
}
